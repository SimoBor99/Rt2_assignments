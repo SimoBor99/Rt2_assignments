{
 "cells": [
  {
   "cell_type": "code",
   "execution_count": 1,
   "id": "1c60f926",
   "metadata": {
    "ExecuteTime": {
     "end_time": "2023-05-14T15:29:52.265811Z",
     "start_time": "2023-05-14T15:29:51.777691Z"
    }
   },
   "outputs": [],
   "source": [
    "import rospy\n",
    "from geometry_msgs.msg import Pose, Point\n",
    "from follow_goal.srv import GoalNumber\n",
    "from follow_goal.msg import PlanningAction\n",
    "from std_srvs.srv import *\n",
    "from nav_msgs.msg import Odometry\n",
    "import follow_goal.msg\n",
    "import actionlib\n",
    "import actionlib.msg\n",
    "%matplotlib widget\n",
    "import matplotlib.pyplot as plt\n",
    "import rospy\n",
    "import tf\n",
    "from nav_msgs.msg import Odometry\n",
    "from tf.transformations import quaternion_matrix\n",
    "import numpy as np\n",
    "from matplotlib.animation import FuncAnimation\n",
    "import ipywidgets as widgets\n",
    "from IPython.display import display\n",
    "from sensor_msgs.msg import LaserScan\n",
    "import jupyros as jr\n",
    "import time\n",
    "import rospy\n",
    "import math"
   ]
  },
  {
   "cell_type": "code",
   "execution_count": 2,
   "id": "058642ee",
   "metadata": {
    "ExecuteTime": {
     "end_time": "2023-05-14T15:29:53.878446Z",
     "start_time": "2023-05-14T15:29:53.795649Z"
    }
   },
   "outputs": [],
   "source": [
    "global user, status\n",
    "\n",
    "rospy.init_node('user_interface')\n",
    "user=actionlib.SimpleActionClient('/reaching_goal', follow_goal.msg.PlanningAction)\n",
    "user.wait_for_server()\n",
    "status=user.get_state()"
   ]
  },
  {
   "cell_type": "code",
   "execution_count": 3,
   "id": "8a145ca8",
   "metadata": {
    "ExecuteTime": {
     "end_time": "2023-05-14T15:29:56.197022Z",
     "start_time": "2023-05-14T15:29:56.181348Z"
    }
   },
   "outputs": [],
   "source": [
    "\n",
    "posx_widget =widgets.FloatText( description='Pos x:', disabled=False)\n",
    "posy_widget =widgets.FloatText( description='Pos y:', disabled=False)\n",
    "\n",
    "confirm_goal=widgets.Button(description=\"Confirm goal\")\n",
    "output_confirm=widgets.Output()\n",
    "\n",
    "cancell_goal=widgets.Button(description=\"Cancel a goal\")\n",
    "output_cancell = widgets.Output()\n",
    "\n",
    "menu=widgets.VBox([posx_widget, posy_widget, confirm_goal, cancell_goal])\n"
   ]
  },
  {
   "cell_type": "code",
   "execution_count": 4,
   "id": "42c6068c",
   "metadata": {
    "ExecuteTime": {
     "end_time": "2023-05-14T15:29:59.355741Z",
     "start_time": "2023-05-14T15:29:59.347771Z"
    },
    "scrolled": true
   },
   "outputs": [
    {
     "name": "stdout",
     "output_type": "stream",
     "text": [
      "Click on one of the following options:\n"
     ]
    },
    {
     "data": {
      "application/vnd.jupyter.widget-view+json": {
       "model_id": "64e4223bb0394e88af6e57838da36354",
       "version_major": 2,
       "version_minor": 0
      },
      "text/plain": [
       "VBox(children=(FloatText(value=0.0, description='Pos x:'), FloatText(value=0.0, description='Pos y:'), Button(…"
      ]
     },
     "metadata": {},
     "output_type": "display_data"
    },
    {
     "data": {
      "application/vnd.jupyter.widget-view+json": {
       "model_id": "fe0e5ed2db224e1f9c6805361cd88398",
       "version_major": 2,
       "version_minor": 0
      },
      "text/plain": [
       "Output()"
      ]
     },
     "metadata": {},
     "output_type": "display_data"
    },
    {
     "data": {
      "application/vnd.jupyter.widget-view+json": {
       "model_id": "f1cf80feaa754c2caa29b8325742a765",
       "version_major": 2,
       "version_minor": 0
      },
      "text/plain": [
       "Output()"
      ]
     },
     "metadata": {},
     "output_type": "display_data"
    }
   ],
   "source": [
    "global user, status\n",
    "\n",
    "def on_confirm_clicked(confirm_goal):\n",
    "    global posx, posy\n",
    "    posx=float(posx_widget.value)\n",
    "    posy=float(posy_widget.value)\n",
    "    with output_confirm:\n",
    "        send_goal()\n",
    "confirm_goal.on_click(on_confirm_clicked)\n",
    "\n",
    "def send_goal():\n",
    "    goal = follow_goal.msg.PlanningGoal()\n",
    "    status=user.get_state()\n",
    "    if not (status==actionlib.GoalStatus.ACTIVE):\n",
    "        goal.target_pose.pose.position.x = posx\n",
    "        goal.target_pose.pose.position.y = posy\n",
    "        user.send_goal(goal)\n",
    "        print(\"Goal sent!\")\n",
    "    else:\n",
    "        print(\"Goal has been already set\")\n",
    "\n",
    "def on_cancell_clicked(cancell_goal):\n",
    "    with output_cancell:\n",
    "        user.cancel_goal()\n",
    "        status=user.get_state()\n",
    "    print(\"Goal cancelled\")\n",
    "cancell_goal.on_click(on_cancell_clicked)\n",
    "\n",
    "\n",
    "print(\"Click on one of the following options:\")\n",
    "display(menu, output_confirm, output_cancell)"
   ]
  },
  {
   "cell_type": "code",
   "execution_count": 5,
   "id": "3866b894",
   "metadata": {
    "ExecuteTime": {
     "end_time": "2023-05-14T15:30:12.132063Z",
     "start_time": "2023-05-14T15:30:12.124877Z"
    }
   },
   "outputs": [],
   "source": [
    "global posx, posy, user, status\n",
    "\n",
    "class Visualiser:\n",
    "    def __init__(self):\n",
    "        self.fig, (self.ax, self.ax2) = plt.subplots(1,2, figsize=(10,4))\n",
    "        self.ln, = self.ax.plot([], [], 'ro', markersize='2', label='Trajectory')\n",
    "        self.posx=posx\n",
    "        self.posy=posy\n",
    "        self.x_data, self.y_data = [] , []\n",
    "        self.reached = 0\n",
    "        self.deleted = 0\n",
    "    def plot_init(self):\n",
    "        self.ax.set_xlim(-30, 30)\n",
    "        self.ax.set_ylim(-30, 30)\n",
    "        self.ax2.set_ylim(0, 10)\n",
    "        return self.ln\n",
    "    def odom_callback(self, msg):\n",
    "        self.y_data.append(msg.pose.pose.position.y)\n",
    "        self.x_data.append(msg.pose.pose.position.x)\n",
    "    def update_plot(self, frame):\n",
    "        self.ln.set_data(self.x_data, self.y_data)\n",
    "        self.posx=posx\n",
    "        self.posy=posy\n",
    "        status=user.get_state()\n",
    "        #check if status is reached\n",
    "        if status==3:\n",
    "            self.ax.plot(self.posx, self.posy, marker='*', color='green', markersize='10', label='Target')\n",
    "            self.reached+=1\n",
    "        #check if status is deleted\n",
    "        elif status==2:\n",
    "            self.ax.plot(self.posx, self.posy, marker='*', color='blue', markersize='10', label='Target')\n",
    "            self.deleted+=1\n",
    "        else:\n",
    "            self.ax.plot(self.posx, self.posy, marker='*', color='orange', markersize='10', label='Target')\n",
    "        \n",
    "        print(self.reached)\n",
    "        print(self.deleted)\n",
    "        self.ax2.bar(['reached', 'deleted'], [self.reached, self.deleted], color = 'b')\n",
    "        return self.ln"
   ]
  },
  {
   "cell_type": "code",
   "execution_count": 6,
   "id": "eab96bb5",
   "metadata": {
    "ExecuteTime": {
     "end_time": "2023-05-14T15:30:14.106034Z",
     "start_time": "2023-05-14T15:30:14.102567Z"
    }
   },
   "outputs": [],
   "source": [
    "min_dist_widget =widgets.FloatText( description='Dist to obstacle:', disabled=True)\n",
    "output_dist=widgets.Output()"
   ]
  },
  {
   "cell_type": "code",
   "execution_count": 7,
   "id": "68890456",
   "metadata": {
    "ExecuteTime": {
     "end_time": "2023-05-14T15:30:15.873728Z",
     "start_time": "2023-05-14T15:30:15.708665Z"
    },
    "scrolled": false
   },
   "outputs": [
    {
     "name": "stderr",
     "output_type": "stream",
     "text": [
      "/tmp/ipykernel_15656/862728850.py:16: UserWarning: frames=None which we can infer the length of, did not pass an explicit *save_count* and passed cache_frame_data=True.  To avoid a possibly unbounded cache, frame data caching has been disabled. To suppress this warning either pass `cache_frame_data=False` or `save_count=MAX_FRAMES`.\n",
      "  ani = FuncAnimation(vis.fig, vis.update_plot, init_func=vis.plot_init)\n"
     ]
    },
    {
     "data": {
      "application/vnd.jupyter.widget-view+json": {
       "model_id": "b2d32b43ce0c448b80860763e15eb8b3",
       "version_major": 2,
       "version_minor": 0
      },
      "image/png": "[encoded data removed]",
      "text/html": [
       "\n",
       "            <div style=\"display: inline-block;\">\n",
       "                <div class=\"jupyter-widgets widget-label\" style=\"text-align: center;\">\n",
       "                    Figure\n",
       "                </div>\n",
       "                <img src='data:image/png;base64,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' width=1000.0/>\n",
       "            </div>\n",
       "        "
      ],
      "text/plain": [
       "Canvas(toolbar=Toolbar(toolitems=[('Home', 'Reset original view', 'home', 'home'), ('Back', 'Back to previous …"
      ]
     },
     "metadata": {},
     "output_type": "display_data"
    },
    {
     "data": {
      "application/vnd.jupyter.widget-view+json": {
       "model_id": "b61b59612fe84b11b9bd053f77f371d2",
       "version_major": 2,
       "version_minor": 0
      },
      "text/plain": [
       "FloatText(value=0.0, description='Dist to obstacle:', disabled=True)"
      ]
     },
     "metadata": {},
     "output_type": "display_data"
    },
    {
     "data": {
      "application/vnd.jupyter.widget-view+json": {
       "model_id": "0594d8fb772d4387a30099e2ba1b6d26",
       "version_major": 2,
       "version_minor": 0
      },
      "text/plain": [
       "Output()"
      ]
     },
     "metadata": {},
     "output_type": "display_data"
    }
   ],
   "source": [
    "\n",
    "vis = Visualiser()\n",
    "vis.ax.set_title('Plot of robot trajectory')\n",
    "vis.ax.set_xlabel('Position on x')\n",
    "vis.ax.set_ylabel('Position on y')\n",
    "vis.ax.legend(bbox_to_anchor=(1.05, 1.0), loc='upper left')\n",
    "plt.tight_layout()\n",
    "vis.ax.grid()\n",
    "\n",
    "vis.ax2.set_title('Number of goal reached and deleted')\n",
    "vis.ax2.set_xlabel('Goals')\n",
    "vis.ax2.set_ylabel('Number of goal')\n",
    "\n",
    "#vis.ax2.bar(goal_string, num_goal)\n",
    "\n",
    "sub = rospy.Subscriber('/odom', Odometry, vis.odom_callback)\n",
    "ani = FuncAnimation(vis.fig, vis.update_plot, init_func=vis.plot_init)\n",
    "\n",
    "plt.show(block=True)\n",
    "\n",
    "display(min_dist_widget, output_dist)\n"
   ]
  },
  {
   "cell_type": "code",
   "execution_count": 8,
   "id": "fa32ba61",
   "metadata": {
    "ExecuteTime": {
     "end_time": "2023-05-14T15:31:00.513564Z",
     "start_time": "2023-05-14T15:31:00.485786Z"
    }
   },
   "outputs": [],
   "source": [
    "\n",
    "global min_range\n",
    "\n",
    "def scan_callback(scan):\n",
    "    min_range = scan.range_max\n",
    "    for range_val in scan.ranges:\n",
    "        if range_val < min_range:\n",
    "            min_range = range_val\n",
    "    min_dist_widget.value=round(min_range, 3)\n",
    "    time.sleep(0.5)\n",
    "\n",
    "jr.subscribe('/scan', LaserScan, scan_callback)\n"
   ]
  },
  {
   "cell_type": "code",
   "execution_count": null,
   "id": "b81478ff",
   "metadata": {
    "ExecuteTime": {
     "end_time": "2023-05-14T14:43:22.864098Z",
     "start_time": "2023-05-14T14:43:22.779073Z"
    },
    "scrolled": false
   },
   "outputs": [],
   "source": [
    "#global deleted, reached\n",
    "import matplotlib.pyplot as plt\n",
    "import numpy as np\n",
    "%matplotlib widget\n",
    "\n",
    "fig2 = plt.figure(figsize=(6, 4))\n",
    "\n",
    "fig2, ax2 = plt.subplots()\n",
    "\n",
    "goal_string = [\"reached\", \"deleted\"]\n",
    "#num_goal = [reached, deleted]\n",
    "#num_goal = [3, 5]\n",
    "np.random.seed(1)\n",
    "num_goal = 4 + np.random.normal(0, 1.5, 200)\n",
    "\n",
    "x_pos = np.arange(len(goal_string))\n",
    "\n",
    "#ax2.set_title('Number of goal reached and deleted')\n",
    "#ax2.set_xlabel('Goals')\n",
    "#ax2.set_ylabel('Number of goal')\n",
    "\n",
    "#plt.plot(3, 3, marker='*', color='orange', markersize='10', label='Target')\n",
    "ax2.hist(num_goal, bins=2, linewidth=0.5, edgecolor=\"white\")\n",
    "\n",
    "plt.show()\n"
   ]
  },
  {
   "cell_type": "code",
   "execution_count": null,
   "id": "3d16be38",
   "metadata": {
    "ExecuteTime": {
     "end_time": "2023-05-14T14:43:23.929048Z",
     "start_time": "2023-05-14T14:43:23.834986Z"
    }
   },
   "outputs": [],
   "source": [
    "import matplotlib.pyplot as plt\n",
    "import numpy as np\n",
    "%matplotlib widget\n",
    "\n",
    "plt.style.use('_mpl-gallery')\n",
    "\n",
    "# make data\n",
    "np.random.seed(1)\n",
    "x = 4 + np.random.normal(0, 1.5, 200)\n",
    "\n",
    "# plot:\n",
    "fig, ax = plt.subplots()\n",
    "\n",
    "ax.hist(x, bins=8, linewidth=0.5, edgecolor=\"white\")\n",
    "\n",
    "#ax.set(xlim=(0, 8), xticks=np.arange(1, 8),\n",
    " #      ylim=(0, 56), yticks=np.linspace(0, 56, 9))\n",
    "\n",
    "plt.show()"
   ]
  },
  {
   "cell_type": "code",
   "execution_count": null,
   "id": "edfcfbc6",
   "metadata": {},
   "outputs": [],
   "source": [
    "\n",
    "vis2 = Visualiser()\n",
    "goal_string = [\"reached\", \"deleted\"]\n",
    "#num_goal = [reached, deleted]\n",
    "#num_goal = [3, 5]\n",
    "np.random.seed(1)\n",
    "num_goal = 4 + np.random.normal(0, 1.5, 200)\n",
    "\n",
    "x_pos = np.arange(len(goal_string))\n",
    "\n",
    "vis.ax2.set_title('Number of goal reached and deleted')\n",
    "vis.ax2.set_xlabel('Goals')\n",
    "vis.ax2.set_ylabel('Number of goal')\n",
    "\n",
    "#plt.plot(3, 3, marker='*', color='orange', markersize='10', label='Target')\n",
    "vis.ax2.hist(num_goal, bins=2, linewidth=0.5, edgecolor=\"white\")\n",
    "\n",
    "plt.show()"
   ]
  }
 ],
 "metadata": {
  "kernelspec": {
   "display_name": "Python 3 (ipykernel)",
   "language": "python",
   "name": "python3"
  },
  "language_info": {
   "codemirror_mode": {
    "name": "ipython",
    "version": 3
   },
   "file_extension": ".py",
   "mimetype": "text/x-python",
   "name": "python",
   "nbconvert_exporter": "python",
   "pygments_lexer": "ipython3",
   "version": "3.8.10"
  },
  "toc": {
   "base_numbering": 1,
   "nav_menu": {},
   "number_sections": true,
   "sideBar": true,
   "skip_h1_title": false,
   "title_cell": "Table of Contents",
   "title_sidebar": "Contents",
   "toc_cell": false,
   "toc_position": {},
   "toc_section_display": true,
   "toc_window_display": false
  },
  "varInspector": {
   "cols": {
    "lenName": 16,
    "lenType": 16,
    "lenVar": 40
   },
   "kernels_config": {
    "python": {
     "delete_cmd_postfix": "",
     "delete_cmd_prefix": "del ",
     "library": "var_list.py",
     "varRefreshCmd": "print(var_dic_list())"
    },
    "r": {
     "delete_cmd_postfix": ") ",
     "delete_cmd_prefix": "rm(",
     "library": "var_list.r",
     "varRefreshCmd": "cat(var_dic_list()) "
    }
   },
   "types_to_exclude": [
    "module",
    "function",
    "builtin_function_or_method",
    "instance",
    "_Feature"
   ],
   "window_display": false
  }
 },
 "nbformat": 4,
 "nbformat_minor": 5
}
