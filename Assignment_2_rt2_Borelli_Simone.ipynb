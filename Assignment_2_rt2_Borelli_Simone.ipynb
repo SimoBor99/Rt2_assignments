{
 "cells": [
  {
   "cell_type": "markdown",
   "id": "561cc401",
   "metadata": {},
   "source": [
    "**Important thing**: for running everything correctly, you should run one cell per time; hence do not click on Kernel and Restart and clear output, but use the button **Run** for all cell; once you have done that, you can simply set a new goal, everytime, by using the boxes on the third last jupyter cell."
   ]
  },
  {
   "cell_type": "markdown",
   "id": "01c1548c",
   "metadata": {},
   "source": [
    " Here I included all the libraries regard ros."
   ]
  },
  {
   "cell_type": "code",
   "execution_count": null,
   "id": "1c60f926",
   "metadata": {},
   "outputs": [],
   "source": [
    "import rospy\n",
    "from geometry_msgs.msg import Pose, Point\n",
    "import following_goal.msg\n",
    "import actionlib\n",
    "import actionlib.msg\n",
    "from following_goal.srv import NumberGoals\n",
    "from following_goal.msg import PlanningAction\n",
    "from std_srvs.srv import *\n",
    "from nav_msgs.msg import Odometry\n",
    "\n"
   ]
  },
  {
   "cell_type": "markdown",
   "id": "630aee06",
   "metadata": {},
   "source": [
    "This import is useful for using widget library."
   ]
  },
  {
   "cell_type": "code",
   "execution_count": null,
   "id": "b16cc6de",
   "metadata": {},
   "outputs": [],
   "source": [
    "import ipywidgets as widgets\n",
    "from IPython.display import display"
   ]
  },
  {
   "cell_type": "markdown",
   "id": "550c1ea4",
   "metadata": {},
   "source": [
    "I initialized my ros node, and connected it to the server."
   ]
  },
  {
   "cell_type": "code",
   "execution_count": null,
   "id": "058642ee",
   "metadata": {},
   "outputs": [],
   "source": [
    "global user, status\n",
    "\n",
    "rospy.init_node('user_interface')\n",
    "#define the the action client\n",
    "user=actionlib.SimpleActionClient('/reaching_goal', following_goal.msg.PlanningAction)\n",
    "#waiting for connection to the server\n",
    "user.wait_for_server()\n",
    "#get the state\n",
    "status=user.get_state()"
   ]
  },
  {
   "cell_type": "markdown",
   "id": "563d7891",
   "metadata": {},
   "source": [
    "Here I defined the widgets for the user interface and also for the data which have collected by the robot. "
   ]
  },
  {
   "cell_type": "code",
   "execution_count": null,
   "id": "8a145ca8",
   "metadata": {},
   "outputs": [],
   "source": [
    "\n",
    "#boxes for setting the goal\n",
    "posx_widget =widgets.FloatText( description='Pos x:', disabled=False,)\n",
    "posy_widget =widgets.FloatText( description='Pos y:', disabled=False,)\n",
    "\n",
    "#button for confirming goals\n",
    "confirm_goal=widgets.Button(description=\"Confirm goal\", button_style=\"success\")\n",
    "output_confirm=widgets.Output()\n",
    "\n",
    "#button for deleting goals\n",
    "cancel_target=widgets.Button(description=\"Cancel a goal\", button_style=\"danger\")\n",
    "output_cancel= widgets.Output()\n",
    "\n",
    "#boxes for displaying current position and distance from the closest obstacle\n",
    "min_dist_widget =widgets.FloatText( description='Minimum distance from obstacle:', disabled=True, style= {'description_width': 'initial'})\n",
    "current_px_widget=widgets.FloatText(description='Current posx:', disabled=True)\n",
    "current_py_widget=widgets.FloatText(description='Current posy:', disabled=True)\n",
    "\n",
    "menu_1=widgets.VBox([posx_widget, posy_widget])\n",
    "menu_2=widgets.VBox([confirm_goal, cancel_target])\n",
    "\n",
    "box_menu_1=widgets.Output(layout={'border': '1px solid black'})\n",
    "box_menu_2=widgets.Output(layout={'border': '3px solid green'})\n",
    "\n",
    "    \n",
    "    \n"
   ]
  },
  {
   "cell_type": "markdown",
   "id": "b5903578",
   "metadata": {},
   "source": [
    "These libraries are useful for plotting the robot trajectory and the goal, that is set before by the user."
   ]
  },
  {
   "cell_type": "code",
   "execution_count": null,
   "id": "1d2d97b2",
   "metadata": {},
   "outputs": [],
   "source": [
    "%matplotlib widget\n",
    "import matplotlib.pyplot as plt\n",
    "import rospy\n",
    "import tf\n",
    "from nav_msgs.msg import Odometry\n",
    "from tf.transformations import quaternion_matrix\n",
    "import numpy as np\n",
    "from matplotlib.animation import FuncAnimation"
   ]
  },
  {
   "cell_type": "markdown",
   "id": "f3e9053d",
   "metadata": {},
   "source": [
    "This class has the task for plotting and updating anything concerning the trajectory , current position and number of reached and deleted goals of robot"
   ]
  },
  {
   "cell_type": "code",
   "execution_count": null,
   "id": "fea7df11",
   "metadata": {},
   "outputs": [],
   "source": [
    "import time\n",
    "posx=0 \n",
    "posy=0 \n",
    "global user, status\n",
    "goals=['reached', 'deleted']\n",
    "colors=['green', 'red']\n",
    "\n",
    "class Visualiser:\n",
    "    def __init__(self):\n",
    "        global posx, posy\n",
    "        self.fig, (self.ax, self.ax2) = plt.subplots(1,2, figsize=(10,4))\n",
    "        self.ln, = self.ax.plot([], [], color='black', markersize='2', label='Trajectory')\n",
    "        #here I set the legend on the right of the graph\n",
    "        self.ax.plot(posx, posy, marker='o', color='green', markersize='5', label='Target reached')\n",
    "        self.ax.plot(posx, posy, marker='o', color='gray', markersize='5', label='Current target')\n",
    "        self.ax.plot(posx, posy, marker='o', color='red', markersize='5', label='Deleted target')\n",
    "        self.posx=posx\n",
    "        self.posy=posy\n",
    "        self.x_data, self.y_data = [] , []\n",
    "        #variables for counting number of reaching and deleting goals\n",
    "        self.reached = 0\n",
    "        self.deleted = 0\n",
    "        #boolean variables for displaying the correct value on the graph\n",
    "        self.plot_reached=False\n",
    "        self.plot_deleted=False\n",
    "    def plot_init(self):\n",
    "        self.ax.set_xlim(-20, 20)\n",
    "        self.ax.set_ylim(-20, 20)\n",
    "        self.ax2.set_ylim(0, 15)\n",
    "        return self.ln\n",
    "    def odom_callback(self, msg):\n",
    "        self.y_data.append(msg.pose.pose.position.y)\n",
    "        self.x_data.append(msg.pose.pose.position.x)\n",
    "        #take all time the current position\n",
    "        current_px_widget.value=round(msg.pose.pose.position.x, 2)\n",
    "        current_py_widget.value=round(msg.pose.pose.position.y, 2)\n",
    "    def update_plot(self, frame):\n",
    "        self.ln.set_data(self.x_data, self.y_data)\n",
    "        self.posx=posx\n",
    "        self.posy=posy\n",
    "        status=user.get_state()\n",
    "        #check if status is reached\n",
    "        if status==3 and not(self.plot_reached):\n",
    "            #change the colour of the goal\n",
    "            self.ax.plot(self.posx, self.posy, marker='o', color='green', markersize='5', label='Target')\n",
    "            self.reached+=1\n",
    "            #display the bar chart\n",
    "            self.ax2.bar(goals, [self.reached, self.deleted], color = colors)\n",
    "            self.plot_reached=True\n",
    "        #check if status is deleted\n",
    "        elif status==2 and not(self.plot_deleted):\n",
    "            #change the colour of the goal\n",
    "            self.ax.plot(self.posx, self.posy, marker='o', color='red', markersize='5', label='Target')\n",
    "            self.deleted+=1\n",
    "            #display the bar chart\n",
    "            self.ax2.bar(goals, [self.reached, self.deleted], color = colors)\n",
    "            self.plot_deleted=True\n",
    "        elif (not(status==3) and self.plot_reached):\n",
    "            self.plot_reached=False \n",
    "        elif (not(status==2) and self.plot_deleted):\n",
    "            self.plot_deleted=False\n",
    "        elif (not(status==3) and not(status==2)):\n",
    "            self.ax.plot(self.posx, self.posy, marker='o', color='gray', markersize='5', label='Target')\n",
    "        \n",
    "        self.ax2.bar(goals, [self.reached, self.deleted], color =colors)\n",
    "        return self.ln"
   ]
  },
  {
   "cell_type": "markdown",
   "id": "ad9a4372",
   "metadata": {},
   "source": [
    "This is the user interface, whereby the user can set a new goal, in the specific boxes, and confirm or delete it."
   ]
  },
  {
   "cell_type": "code",
   "execution_count": null,
   "id": "a7195e09",
   "metadata": {},
   "outputs": [],
   "source": [
    "global user, status\n",
    "\n",
    "#function for catching the click of the button confirm_goal\n",
    "def on_confirm_clicked(confirm_goal):\n",
    "    global posx, posy\n",
    "    posx=float(posx_widget.value)\n",
    "    posy=float(posy_widget.value)\n",
    "    with output_confirm:\n",
    "        send_goal()\n",
    "confirm_goal.on_click(on_confirm_clicked)\n",
    "\n",
    "#function for sending the goal to the server\n",
    "def send_goal():\n",
    "    goal = following_goal.msg.PlanningGoal()\n",
    "    status=user.get_state()\n",
    "    if not (status==actionlib.GoalStatus.ACTIVE):\n",
    "        goal.target_pose.pose.position.x = posx\n",
    "        goal.target_pose.pose.position.y = posy\n",
    "        user.send_goal(goal)\n",
    "        print(\"Goal sent!\")\n",
    "    else:\n",
    "        print(\"Goal has been already set\")\n",
    "\n",
    "#function for catching the click of the button cancel_target\n",
    "def on_cancel_clicked(cancel_target):\n",
    "    with output_cancel:\n",
    "        cancel_function()\n",
    "cancel_target.on_click(on_cancel_clicked)\n",
    "\n",
    "#function for deleting the goal\n",
    "def cancel_function():\n",
    "    status=user.get_state()\n",
    "    if status==actionlib.GoalStatus.ACTIVE:\n",
    "        user.cancel_goal()\n",
    "        print(\"Goal cancelled\")\n",
    "    else:\n",
    "        print(\"No goal has been set\")\n",
    "\n",
    "with box_menu_1:\n",
    "    print(\"Here you can set a new goal:\")\n",
    "    display(menu_1)\n",
    "    print(\"Click one of the two buttons for confirming or deleting the goal:\")\n",
    "    display(menu_2, output_confirm, output_cancel)\n",
    "\n",
    "box_menu_1"
   ]
  },
  {
   "cell_type": "markdown",
   "id": "90428e82",
   "metadata": {},
   "source": [
    "Here I show the plot of robot trajectory, bar chart of reached and deleted goals and finally some boxes, which show the current position and distance from the closest obastacle."
   ]
  },
  {
   "cell_type": "code",
   "execution_count": null,
   "id": "68890456",
   "metadata": {},
   "outputs": [],
   "source": [
    "\n",
    "\n",
    "vis = Visualiser()\n",
    "vis.ax.set_title('Plot of robot trajectory')\n",
    "vis.ax.set_xlabel('Position on x')\n",
    "vis.ax.set_ylabel('Position on y')\n",
    "vis.ax.legend(bbox_to_anchor=(1.05, 1.0), loc='upper left')\n",
    "plt.tight_layout()\n",
    "vis.ax.grid()\n",
    "\n",
    "vis.ax2.set_title('Number of goal reached and deleted')\n",
    "vis.ax2.set_xlabel('Goals')\n",
    "vis.ax2.set_ylabel('Number of goal')\n",
    "\n",
    "sub = rospy.Subscriber('/odom', Odometry, vis.odom_callback)\n",
    "ani = FuncAnimation(vis.fig, vis.update_plot, init_func=vis.plot_init)\n",
    "plt.show(block=True)\n",
    "\n",
    "with box_menu_2:\n",
    "    display(min_dist_widget)\n",
    "    display(current_px_widget)\n",
    "    display(current_py_widget)\n",
    "box_menu_2\n"
   ]
  },
  {
   "cell_type": "markdown",
   "id": "ea034bd2",
   "metadata": {},
   "source": [
    "Thie code below is a simple callback, which compute each time the distance from the closest obstacle,thanks to the subscription from the topic /scan."
   ]
  },
  {
   "cell_type": "code",
   "execution_count": null,
   "id": "fa32ba61",
   "metadata": {},
   "outputs": [],
   "source": [
    "import time\n",
    "import rospy\n",
    "import math\n",
    "import jupyros as jr\n",
    "from sensor_msgs.msg import LaserScan\n",
    "\n",
    "global min_range\n",
    "\n",
    "#callback for finding the distance from the closest obstacle\n",
    "def scan_callback(scan):\n",
    "    min_range = scan.range_max\n",
    "    for range_val in scan.ranges:\n",
    "        if range_val < min_range:\n",
    "            min_range = range_val\n",
    "    min_dist_widget.value=round(min_range, 2)\n",
    "\n",
    "#this widget lets you to start and stop the subscritpion, if you want\n",
    "jr.subscribe('/scan', LaserScan, scan_callback)\n"
   ]
  },
  {
   "cell_type": "code",
   "execution_count": null,
   "id": "b81478ff",
   "metadata": {},
   "outputs": [],
   "source": []
  },
  {
   "cell_type": "code",
   "execution_count": null,
   "id": "190f74ed",
   "metadata": {},
   "outputs": [],
   "source": []
  }
 ],
 "metadata": {
  "kernelspec": {
   "display_name": "Python 3 (ipykernel)",
   "language": "python",
   "name": "python3"
  },
  "language_info": {
   "codemirror_mode": {
    "name": "ipython",
    "version": 3
   },
   "file_extension": ".py",
   "mimetype": "text/x-python",
   "name": "python",
   "nbconvert_exporter": "python",
   "pygments_lexer": "ipython3",
   "version": "3.8.5"
  }
 },
 "nbformat": 4,
 "nbformat_minor": 5
}
